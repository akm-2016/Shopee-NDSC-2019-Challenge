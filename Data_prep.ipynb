{
 "cells": [
  {
   "cell_type": "markdown",
   "metadata": {},
   "source": [
    "## Data Preparation\n",
    "This code is to filter all the images that are in the excel provided and categorize it into train and test data."
   ]
  },
  {
   "cell_type": "code",
   "execution_count": null,
   "metadata": {
    "collapsed": false
   },
   "outputs": [],
   "source": [
    "import pandas as pd\n",
    "from matplotlib import pyplot as plt\n",
    "import numpy as np\n",
    "import os\n",
    "from keras.preprocessing import image"
   ]
  },
  {
   "cell_type": "code",
   "execution_count": null,
   "metadata": {
    "collapsed": false
   },
   "outputs": [],
   "source": [
    "currentdir = os.getcwd()\n",
    "train = pd.read_csv(os.path.join(currentdir, r'ndsc-beginner\\train.csv'))\n",
    "train.head()"
   ]
  },
  {
   "cell_type": "code",
   "execution_count": null,
   "metadata": {
    "collapsed": false
   },
   "outputs": [],
   "source": [
    "#subset of mobile image data\n",
    "mobile = train[(train['Category'] >=33) & (train['Category'] <=57)]\n",
    "print(mobile.shape)"
   ]
  },
  {
   "cell_type": "code",
   "execution_count": null,
   "metadata": {
    "collapsed": false
   },
   "outputs": [],
   "source": [
    "#new column to filter out paths with no images\n",
    "mobile['path_exists?'] = mobile['image_path'].apply(lambda x: 'True' if os.path.exists(x) == True else 'False')\n",
    "\n",
    "print(mobile['path_exists?'].describe())\n",
    "mobile.head(5)"
   ]
  },
  {
   "cell_type": "code",
   "execution_count": null,
   "metadata": {
    "collapsed": false
   },
   "outputs": [],
   "source": [
    "#filter data containing image paths\n",
    "mobile_tr = mobile[mobile['path_exists?'] == 'True']\n",
    "mobile_tr.head()"
   ]
  },
  {
   "cell_type": "code",
   "execution_count": null,
   "metadata": {
    "collapsed": true
   },
   "outputs": [],
   "source": [
    "# create train data with 2 columns 'image_path' and 'Category'\n",
    "train_data = mobile_tr[['image_path','Category']]\n",
    "train_data.to_csv('train_data.csv')"
   ]
  },
  {
   "cell_type": "code",
   "execution_count": null,
   "metadata": {
    "collapsed": true
   },
   "outputs": [],
   "source": [
    "test = pd.read_csv(os.path.join(currentdir, r'ndsc-beginner\\test.csv'))\n",
    "test.head()"
   ]
  },
  {
   "cell_type": "code",
   "execution_count": null,
   "metadata": {
    "collapsed": true
   },
   "outputs": [],
   "source": [
    "#new column to filter out paths with no images\n",
    "test['path_exists?'] = test['image_path'].apply(lambda x: 'True' if os.path.exists(x) == True else 'False')\n",
    "\n",
    "print(test['path_exists?'].describe())\n",
    "test1 = test[test['path_exists?'] == 'True']\n",
    "test1.to_csv('test_data.csv')"
   ]
  }
 ],
 "metadata": {
  "kernelspec": {
   "display_name": "Python 3",
   "language": "python",
   "name": "python3"
  },
  "language_info": {
   "codemirror_mode": {
    "name": "ipython",
    "version": 3
   },
   "file_extension": ".py",
   "mimetype": "text/x-python",
   "name": "python",
   "nbconvert_exporter": "python",
   "pygments_lexer": "ipython3",
   "version": "3.6.0"
  }
 },
 "nbformat": 4,
 "nbformat_minor": 2
}
